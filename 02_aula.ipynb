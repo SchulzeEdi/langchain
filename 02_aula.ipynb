{
 "cells": [
  {
   "attachments": {},
   "cell_type": "markdown",
   "id": "13d7fc40",
   "metadata": {},
   "source": [
    "# Models"
   ]
  },
  {
   "attachments": {},
   "cell_type": "markdown",
   "id": "29de0417",
   "metadata": {},
   "source": [
    "## LLMs"
   ]
  },
  {
   "attachments": {},
   "cell_type": "markdown",
   "id": "e774a8d4",
   "metadata": {},
   "source": [
    "Modelos de Linguagem Grande (LLMs, na sigla em inglês) são um componente central do LangChain. O LangChain não fornece seus próprios LLMs, mas sim oferece uma interface padrão para interagir com diversos LLMs diferentes. Para ser específico, essa interface é uma que recebe como entrada uma string e retorna uma string.\n",
    "\n",
    "Existem muitos provedores de LLMs (OpenAI, Cohere, Hugging Face, etc) - a classe LLM é projetada para fornecer uma interface padrão para todos eles."
   ]
  },
  {
   "cell_type": "code",
   "execution_count": 1,
   "id": "925e5239",
   "metadata": {},
   "outputs": [],
   "source": [
    "from langchain_openai import OpenAI\n",
    "\n",
    "llm = OpenAI(model='gpt-3.5-turbo-instruct')"
   ]
  },
  {
   "attachments": {},
   "cell_type": "markdown",
   "id": "d501a6ce",
   "metadata": {},
   "source": [
    "### Chamando a llm"
   ]
  },
  {
   "cell_type": "code",
   "execution_count": 2,
   "id": "9e6ecc1e",
   "metadata": {},
   "outputs": [
    {
     "data": {
      "text/plain": [
       "'\\n\\nEra uma vez um jovem chamado Lucas que sempre teve interesse em tecnologia e computadores. Desde criança, ele ficava fascinado ao ver seus pais trabalhando em seus laptops e sonhava em um dia poder criar suas próprias ferramentas digitais. Apesar disso, Lucas nunca teve acesso a cursos ou aulas de programação, pois sua família não tinha condições de pagar por isso.\\n\\nMas, determinado a aprender, Lucas começou a ler livros e artigos sobre programação na internet. No começo, tudo parecia muito confuso e complexo, mas ele não desistiu. Com muita dedicação e paciência, foi aprendendo os conceitos básicos de lógica de programação e linguagens de codificação.\\n\\nCom o passar do tempo, Lucas começou a praticar seus conhecimentos criando pequenos projetos pessoais, como uma calculadora simples e um jogo de adivinhação. Cada vez que conseguia fazer algo funcionar, sentia uma alegria imensa e uma sensação de realização.\\n\\nMas a jornada de aprender a programar não foi fácil. Lucas enfrentou muitos obstáculos'"
      ]
     },
     "execution_count": 2,
     "metadata": {},
     "output_type": "execute_result"
    }
   ],
   "source": [
    "pergunta = 'Conte uma história breve sobre a jornada de aprender a programar'\n",
    "llm.invoke(pergunta)"
   ]
  },
  {
   "attachments": {},
   "cell_type": "markdown",
   "id": "8ade95d2",
   "metadata": {},
   "source": [
    "### Chamando com stream de resposta"
   ]
  },
  {
   "cell_type": "code",
   "execution_count": 3,
   "id": "922a0701",
   "metadata": {},
   "outputs": [
    {
     "name": "stdout",
     "output_type": "stream",
     "text": [
      "\n",
      "\n",
      "Larissa sempre foi fascinada por tecnologia e computadores desde pequena. Ela sonhava em criar seus próprios jogos e aplicativos, mas não sabia por onde começar. Um dia, ela decidiu que era hora de aprender a programar e começar sua jornada no mundo da tecnologia.\n",
      "\n",
      "No início, Larissa ficou sobrecarregada com a quantidade de informações e linguagens de programação existentes. Ela não sabia qual escolher ou por onde começar. Mas, com determinação, ela mergulhou de cabeça nos estudos e decidiu aprender a linguagem Python, recomendada por amigos programadores.\n",
      "\n",
      "As primeiras semanas foram desafiadoras, Larissa passou horas assistindo a vídeos tutoriais, lendo documentações e tentando entender os conceitos básicos de programação. Ela ficou frustrada algumas vezes, mas não desistiu. A cada pequena vitória, como fazer um programa simples funcionar, ela se sentia mais motivada e confiante.\n",
      "\n",
      "Com o tempo, Larissa começou a se familiarizar com a linguagem e a entender como os códigos funcionavam. Ela"
     ]
    }
   ],
   "source": [
    "pergunta = 'Conte uma história breve sobre a jornada de aprender a programar'\n",
    "for trecho in llm.stream(pergunta):\n",
    "    print(trecho, end='')"
   ]
  },
  {
   "attachments": {},
   "cell_type": "markdown",
   "id": "a80ae2cc",
   "metadata": {},
   "source": [
    "### Chamadas simultâneas"
   ]
  },
  {
   "cell_type": "code",
   "execution_count": 4,
   "id": "7ce4ace5",
   "metadata": {},
   "outputs": [
    {
     "data": {
      "text/plain": [
       "['\\n\\nO céu é o espaço acima da superfície da Terra, onde se encontram as nuvens, os planetas, as estrelas e outros corpos celestes. É também o lugar onde se acredita que as almas dos mortos encontram paz e felicidade eterna, de acordo com diversas religiões e crenças. Além disso, o céu também pode ser visto como um estado de espírito elevado, de paz e tranquilidade.',\n",
       " '\\n\\nA terra é o terceiro planeta do sistema solar, localizado a uma distância de aproximadamente 149,6 milhões de quilômetros do sol. É um planeta rochoso com uma atmosfera composta principalmente por nitrogênio e oxigênio, que sustenta a vida como a conhecemos. É o único planeta conhecido a abrigar vida em toda a sua diversidade, incluindo seres humanos. A terra é composta por vários elementos, incluindo água, rochas, ar, solo e vida. É também o lar de milhões de espécies de plantas, animais e microorganismos. Além disso, a terra é um sistema dinâmico, com movimentos tectônicos, ciclos climáticos e uma variedade de ecossistemas que interagem e se influenciam. ',\n",
       " '\\n\\nAs estrelas são corpos celestes que emitem luz e calor próprios. Elas são formadas por gases, principalmente hidrogênio e hélio, e estão em constante processo de fusão nuclear em seus núcleos, o que gera a energia que elas emitem. As estrelas também possuem diferentes tamanhos, cores e brilhos, e podem ser agrupadas em constelações no céu noturno. Elas desempenham um papel fundamental na formação e evolução do universo, influenciando a formação de planetas e sistemas solares.']"
      ]
     },
     "execution_count": 4,
     "metadata": {},
     "output_type": "execute_result"
    }
   ],
   "source": [
    "perguntas = [\n",
    "    'O que é o céu?',\n",
    "    'O que é a terra?',\n",
    "    'O que são as estrelas?'\n",
    "]\n",
    "\n",
    "llm.batch(perguntas)"
   ]
  },
  {
   "attachments": {},
   "cell_type": "markdown",
   "id": "4f6d48b1",
   "metadata": {},
   "source": [
    "## ChatModels"
   ]
  },
  {
   "attachments": {},
   "cell_type": "markdown",
   "id": "8796004d",
   "metadata": {},
   "source": [
    "ChatModels são um componente central do LangChain.\n",
    "\n",
    "Um modelo de chat é um modelo de linguagem que utiliza mensagens de chat como entradas e retorna mensagens de chat como saídas (ao invés de usar texto puro).\n",
    "\n",
    "O LangChain possui integrações com vários provedores de modelos (OpenAI, Cohere, Hugging Face, etc.) e expõe uma interface padrão para interagir com todos esses modelos."
   ]
  },
  {
   "cell_type": "code",
   "execution_count": 5,
   "id": "e887b020",
   "metadata": {},
   "outputs": [],
   "source": [
    "from langchain_openai import ChatOpenAI\n",
    "\n",
    "chat = ChatOpenAI(model='gpt-3.5-turbo-0125')"
   ]
  },
  {
   "cell_type": "code",
   "execution_count": 7,
   "id": "7c38bed6",
   "metadata": {},
   "outputs": [],
   "source": [
    "from langchain_core.messages import HumanMessage, SystemMessage\n",
    "\n",
    "mensagens = [\n",
    "    SystemMessage(content='Você é um assistente que conta piadas.'),\n",
    "    HumanMessage(content='Quanto é 1 + 1?')\n",
    "]\n",
    "resposta = chat.invoke(mensagens)"
   ]
  },
  {
   "cell_type": "code",
   "execution_count": 9,
   "id": "085f5b8a",
   "metadata": {},
   "outputs": [
    {
     "name": "stdout",
     "output_type": "stream",
     "text": [
      "Depende, você está pedindo a resposta matemática ou a resposta engraçada?\n"
     ]
    }
   ],
   "source": [
    "print(resposta.content)"
   ]
  },
  {
   "cell_type": "code",
   "execution_count": 11,
   "id": "71c7a923",
   "metadata": {},
   "outputs": [
    {
     "data": {
      "text/plain": [
       "{'token_usage': {'completion_tokens': 20,\n",
       "  'prompt_tokens': 30,\n",
       "  'total_tokens': 50},\n",
       " 'model_name': 'gpt-3.5-turbo-0125',\n",
       " 'system_fingerprint': 'fp_c2295e73ad',\n",
       " 'finish_reason': 'stop',\n",
       " 'logprobs': None}"
      ]
     },
     "execution_count": 11,
     "metadata": {},
     "output_type": "execute_result"
    }
   ],
   "source": [
    "resposta.response_metadata"
   ]
  },
  {
   "cell_type": "code",
   "execution_count": 15,
   "id": "af00b115",
   "metadata": {},
   "outputs": [
    {
     "name": "stdout",
     "output_type": "stream",
     "text": [
      "Depende, você está pedindo a resposta matemática ou a resposta de uma piada?"
     ]
    }
   ],
   "source": [
    "from langchain_core.messages import HumanMessage, SystemMessage\n",
    "\n",
    "mensagens = [\n",
    "    SystemMessage(content='Você é um assistente que conta piadas.'),\n",
    "    HumanMessage(content='Quanto é 1 + 1?')\n",
    "]\n",
    "for trecho in chat.stream(mensagens):\n",
    "    print(trecho.content, end='')"
   ]
  },
  {
   "attachments": {},
   "cell_type": "markdown",
   "id": "efae899e",
   "metadata": {},
   "source": [
    "Existem 5 tipos diferentes de mensagens:\n",
    "\n",
    "- `HumanMessage`: Isso representa uma mensagem do usuário. Geralmente consiste apenas de conteúdo.\n",
    "\n",
    "- `AIMessage`: Isso representa uma mensagem do modelo. Pode ter additional_kwargs incluídos - por exemplo, tool_calls se estiver usando chamadas de ferramentas da OpenAI.\n",
    "\n",
    "- `SystemMessage`: Isso representa uma mensagem do sistema, que indica ao modelo como se comportar. Geralmente consiste apenas de conteúdo. Nem todo modelo suporta isso.\n",
    "\n",
    "- `FunctionMessage`: Isso representa o resultado de uma chamada de função. Além do papel e conteúdo, esta mensagem tem um parâmetro de nome que transmite o nome da função que foi chamada para produzir este resultado.\n",
    "\n",
    "- `ToolMessage`: Isso representa o resultado de uma chamada de ferramenta. Isso é distinto de uma Mensagem de Função a fim de corresponder aos tipos de mensagens de função e ferramenta da OpenAI. Além do papel e conteúdo, esta mensagem tem um parâmetro tool_call_id que transmite o id da chamada à ferramenta que foi feita para produzir este resultado."
   ]
  },
  {
   "cell_type": "code",
   "execution_count": null,
   "id": "f2efaf41",
   "metadata": {},
   "outputs": [],
   "source": []
  }
 ],
 "metadata": {
  "kernelspec": {
   "display_name": ".venv",
   "language": "python",
   "name": "python3"
  },
  "language_info": {
   "codemirror_mode": {
    "name": "ipython",
    "version": 3
   },
   "file_extension": ".py",
   "mimetype": "text/x-python",
   "name": "python",
   "nbconvert_exporter": "python",
   "pygments_lexer": "ipython3",
   "version": "3.11.4"
  }
 },
 "nbformat": 4,
 "nbformat_minor": 5
}
