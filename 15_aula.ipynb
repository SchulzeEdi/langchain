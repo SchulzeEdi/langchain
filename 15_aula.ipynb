{
 "cells": [
  {
   "attachments": {},
   "cell_type": "markdown",
   "id": "13d7fc40",
   "metadata": {},
   "source": [
    "# Conversando com os dados"
   ]
  },
  {
   "cell_type": "code",
   "execution_count": 2,
   "id": "319493c5",
   "metadata": {},
   "outputs": [],
   "source": [
    "# __import__('pysqlite3')\n",
    "# import sys\n",
    "# sys.modules['sqlite3'] = sys.modules.pop('pysqlite3')\n",
    "\n",
    "\n",
    "from langchain_openai import OpenAIEmbeddings\n",
    "from langchain_community.vectorstores.chroma import Chroma\n",
    "\n",
    "from langchain_community.document_loaders.pdf import PyPDFLoader\n",
    "from langchain_text_splitters import RecursiveCharacterTextSplitter"
   ]
  },
  {
   "cell_type": "code",
   "execution_count": 3,
   "id": "b1cd506c",
   "metadata": {},
   "outputs": [],
   "source": [
    "caminhos = [\n",
    "    \"arquivos/Explorando o Universo das IAs com Hugging Face.pdf\",\n",
    "    \"arquivos/Explorando a API da OpenAI.pdf\",\n",
    "    ]\n",
    "\n",
    "paginas = []\n",
    "for caminho in caminhos:\n",
    "    loader = PyPDFLoader(caminho)\n",
    "    paginas.extend(loader.load())\n",
    "\n",
    "recur_split = RecursiveCharacterTextSplitter(\n",
    "    chunk_size=1000,\n",
    "    chunk_overlap=100,\n",
    "    separators=[\"\\n\\n\", \"\\n\", \".\", \" \", \"\"]\n",
    ")\n",
    "\n",
    "documents = recur_split.split_documents(paginas)\n",
    "\n",
    "for i, doc in enumerate(documents):\n",
    "    doc.metadata['source'] = doc.metadata['source'].replace('arquivos/', '')\n",
    "    doc.metadata['doc_id'] = i"
   ]
  },
  {
   "cell_type": "code",
   "execution_count": 4,
   "id": "9d9fb7be",
   "metadata": {},
   "outputs": [],
   "source": [
    "diretorio = 'arquivos/chat_retrieval_db'\n",
    "\n",
    "embeddings_model = OpenAIEmbeddings()\n",
    "vectordb = Chroma.from_documents(\n",
    "    documents=documents,\n",
    "    embedding=embeddings_model,\n",
    "    persist_directory=diretorio\n",
    ")"
   ]
  },
  {
   "attachments": {},
   "cell_type": "markdown",
   "id": "892e580f",
   "metadata": {},
   "source": [
    "## Criando estrutura de conversa"
   ]
  },
  {
   "cell_type": "code",
   "execution_count": 5,
   "id": "2bf8935e",
   "metadata": {},
   "outputs": [],
   "source": [
    "from langchain_openai.chat_models import ChatOpenAI\n",
    "\n",
    "chat = ChatOpenAI(model='gpt-3.5-turbo-0125')"
   ]
  },
  {
   "cell_type": "code",
   "execution_count": 6,
   "id": "40767bec",
   "metadata": {},
   "outputs": [],
   "source": [
    "from langchain.chains.retrieval_qa.base import RetrievalQA\n",
    "\n",
    "chat_chain = RetrievalQA.from_chain_type(\n",
    "    llm=chat,\n",
    "    retriever=vectordb.as_retriever(search_type='mmr'),\n",
    ")"
   ]
  },
  {
   "cell_type": "code",
   "execution_count": 7,
   "id": "5a53b40f",
   "metadata": {},
   "outputs": [
    {
     "data": {
      "text/plain": [
       "{'query': 'O que é Hugging Face e como faço para acessá-lo?',\n",
       " 'result': 'Hugging Face é uma plataforma que oferece uma variedade de modelos de inteligência artificial e ferramentas para trabalhar com eles. Para acessá-lo, você pode criar uma conta no site do Hugging Face e explorar os modelos disponíveis, solicitando acesso a eles conforme necessário. Cada modelo pode ter um processo específico para solicitar acesso, como concordar com termos de uso, por exemplo. Além disso, você pode utilizar as bibliotecas do Hugging Face, como transformers, para interagir com os modelos de forma mais prática.'}"
      ]
     },
     "execution_count": 7,
     "metadata": {},
     "output_type": "execute_result"
    }
   ],
   "source": [
    "pergunta = 'O que é Hugging Face e como faço para acessá-lo?'\n",
    "chat_chain.invoke({'query': pergunta})"
   ]
  },
  {
   "attachments": {},
   "cell_type": "markdown",
   "id": "54ea26b5",
   "metadata": {},
   "source": [
    "## Modificando o prompt da chain"
   ]
  },
  {
   "cell_type": "code",
   "execution_count": 8,
   "id": "3f45ac63",
   "metadata": {},
   "outputs": [],
   "source": [
    "from langchain.prompts import PromptTemplate\n",
    "\n",
    "chain_prompt = PromptTemplate.from_template(\n",
    "\"\"\"Utilize o contexto fornceido para responder a pergunta ao final. \n",
    "Se você não sabe a resposta, apenas diga que não sabe e não tente inventar a resposta.\n",
    "Utilize três frases no máximo, mantenha a resposta concisa.\n",
    "\n",
    "Contexto: {context}\n",
    "\n",
    "Pergunta: {question}\n",
    "\n",
    "Resposta:\n",
    "\"\"\"\n",
    ")"
   ]
  },
  {
   "cell_type": "code",
   "execution_count": 9,
   "id": "27cf70ac",
   "metadata": {},
   "outputs": [],
   "source": [
    "chat_chain = RetrievalQA.from_chain_type(\n",
    "    llm=chat,\n",
    "    retriever=vectordb.as_retriever(search_type='mmr'),\n",
    "    chain_type_kwargs={'prompt': chain_prompt},\n",
    "    return_source_documents=True\n",
    ")"
   ]
  },
  {
   "cell_type": "code",
   "execution_count": 11,
   "id": "e45c72e1",
   "metadata": {},
   "outputs": [
    {
     "name": "stdout",
     "output_type": "stream",
     "text": [
      "Hugging Face é uma plataforma de IA com modelos e datasets disponíveis.\n",
      "Para acessá-lo, é necessário criar uma conta e solicitar acesso aos modelos desejados.\n",
      "O processo de acesso pode variar dependendo do modelo, mas geralmente envolve concordar com termos de uso.\n"
     ]
    }
   ],
   "source": [
    "pergunta = 'O que é Hugging Face e como faço para acessá-lo?'\n",
    "resposta = chat_chain.invoke({'query': pergunta})\n",
    "print(resposta['result'])"
   ]
  },
  {
   "cell_type": "code",
   "execution_count": 13,
   "id": "33255778",
   "metadata": {},
   "outputs": [
    {
     "data": {
      "text/plain": [
       "[Document(page_content='Explorando o Universo das IAs com Hugging Face\\nConteúdo\\n01. O que é Hugging Face? 5\\nAfinal, o que é Hugging Face? . . . . . . . . . . . . . . . . . . . . . . . . . . . . . . . . . . 5\\nÉ tudo aberto mesmo? . . . . . . . . . . . . . . . . . . . . . . . . . . . . . . . . . . . 6\\nComo usaremos o Hugging Face? . . . . . . . . . . . . . . . . . . . . . . . . . . . . . . . . 6\\n02. A plataforma Hugging Face 7\\nModelos . . . . . . . . . . . . . . . . . . . . . . . . . . . . . . . . . . . . . . . . . . . . . . 7\\nPágina de um modelo . . . . . . . . . . . . . . . . . . . . . . . . . . . . . . . . . . . 8\\nDatasets . . . . . . . . . . . . . . . . . . . . . . . . . . . . . . . . . . . . . . . . . . . . . . 10\\nSpaces . . . . . . . . . . . . . . . . . . . . . . . . . . . . . . . . . . . . . . . . . . . . . . . 10\\n03. Testando nossa primeira IA em tempo recorde 14\\nNossa primeira IA . . . . . . . . . . . . . . . . . . . . . . . . . . . . . . . . . . . . . . . . . 14', metadata={'doc_id': 1, 'page': 1, 'source': 'Explorando o Universo das IAs com Hugging Face.pdf'}),\n",
       " Document(page_content='Explorando o Universo das IAs com Hugging Face\\nFigure 19: Criando uma conta no Hugging Face\\nPedindo acesso a um modelo\\nDe volta na página do modelo, você deverá ver um botão para solicitar acesso. O processo é diferente\\npara cada modelo restrito. No caso do modelo do Google, basta ler e concordar com termos de uso.\\nAsimov Academy 45', metadata={'doc_id': 89, 'page': 45, 'source': 'Explorando o Universo das IAs com Hugging Face.pdf'}),\n",
       " Document(page_content='Face.\\nÉ claro que o Hugging Face não acaba aqui. Não tivemos tempo de explorar boa parte das tarefas que\\nexistem no Hugging Face. Dito isso, agora sabemos como fazer este processo: conseguimos procurar por\\numa tarefa nova, encontrar o código necessário para baixá-lo (seja pela biblioteca transformers\\nou alguma outra), avaliar se conseguiremos rodar o modelo localmente, e entender como passar\\nargumentos e obter resultados a partir dele.\\nCom isso, você está apto para combinar funcionalidades de diversos modelos do Hugging Face com\\nsuas aplicações. Não é preciso utilizar o Hugging Face para fazer tudo em uma aplicação: você pode\\napenas pegar um ou alguns modelos específicos que sirvam para alguma tarefa, e combiná-los com\\nalgum outro script ou programa. Ou então combinar as IAs do Hugging Face com outras IAs mais\\n“famosas” , como o ChatGPT , e construir assim um sistema robusto com diversas IAs para uma variedade\\nde tarefas. O céu é o limite!\\nAsimov Academy 88', metadata={'doc_id': 159, 'page': 88, 'source': 'Explorando o Universo das IAs com Hugging Face.pdf'}),\n",
       " Document(page_content='as bibliotecas do Hugging Face são extremamente práticas. Portanto, se você sentir que está fazendo\\nalgo de forma “muito manual” , procure pela documentação ou comunidade e busque entender se há\\nalguma função ou ferramenta pronta para te ajudar!\\nAsimov Academy 38', metadata={'doc_id': 76, 'page': 38, 'source': 'Explorando o Universo das IAs com Hugging Face.pdf'})]"
      ]
     },
     "execution_count": 13,
     "metadata": {},
     "output_type": "execute_result"
    }
   ],
   "source": [
    "resposta['source_documents']"
   ]
  },
  {
   "cell_type": "code",
   "execution_count": 14,
   "id": "be127f78",
   "metadata": {},
   "outputs": [
    {
     "name": "stdout",
     "output_type": "stream",
     "text": [
      "\u001b[32;1m\u001b[1;3m[chain/start]\u001b[0m \u001b[1m[1:chain:RetrievalQA] Entering Chain run with input:\n",
      "\u001b[0m{\n",
      "  \"query\": \"O que é Hugging Face e como faço para acessá-lo?\"\n",
      "}\n",
      "\u001b[32;1m\u001b[1;3m[chain/start]\u001b[0m \u001b[1m[1:chain:RetrievalQA > 3:chain:StuffDocumentsChain] Entering Chain run with input:\n",
      "\u001b[0m[inputs]\n",
      "\u001b[32;1m\u001b[1;3m[chain/start]\u001b[0m \u001b[1m[1:chain:RetrievalQA > 3:chain:StuffDocumentsChain > 4:chain:LLMChain] Entering Chain run with input:\n",
      "\u001b[0m{\n",
      "  \"question\": \"O que é Hugging Face e como faço para acessá-lo?\",\n",
      "  \"context\": \"Explorando o Universo das IAs com Hugging Face\\nConteúdo\\n01. O que é Hugging Face? 5\\nAfinal, o que é Hugging Face? . . . . . . . . . . . . . . . . . . . . . . . . . . . . . . . . . . 5\\nÉ tudo aberto mesmo? . . . . . . . . . . . . . . . . . . . . . . . . . . . . . . . . . . . 6\\nComo usaremos o Hugging Face? . . . . . . . . . . . . . . . . . . . . . . . . . . . . . . . . 6\\n02. A plataforma Hugging Face 7\\nModelos . . . . . . . . . . . . . . . . . . . . . . . . . . . . . . . . . . . . . . . . . . . . . . 7\\nPágina de um modelo . . . . . . . . . . . . . . . . . . . . . . . . . . . . . . . . . . . 8\\nDatasets . . . . . . . . . . . . . . . . . . . . . . . . . . . . . . . . . . . . . . . . . . . . . . 10\\nSpaces . . . . . . . . . . . . . . . . . . . . . . . . . . . . . . . . . . . . . . . . . . . . . . . 10\\n03. Testando nossa primeira IA em tempo recorde 14\\nNossa primeira IA . . . . . . . . . . . . . . . . . . . . . . . . . . . . . . . . . . . . . . . . . 14\\n\\nExplorando o Universo das IAs com Hugging Face\\nFigure 19: Criando uma conta no Hugging Face\\nPedindo acesso a um modelo\\nDe volta na página do modelo, você deverá ver um botão para solicitar acesso. O processo é diferente\\npara cada modelo restrito. No caso do modelo do Google, basta ler e concordar com termos de uso.\\nAsimov Academy 45\\n\\nFace.\\nÉ claro que o Hugging Face não acaba aqui. Não tivemos tempo de explorar boa parte das tarefas que\\nexistem no Hugging Face. Dito isso, agora sabemos como fazer este processo: conseguimos procurar por\\numa tarefa nova, encontrar o código necessário para baixá-lo (seja pela biblioteca transformers\\nou alguma outra), avaliar se conseguiremos rodar o modelo localmente, e entender como passar\\nargumentos e obter resultados a partir dele.\\nCom isso, você está apto para combinar funcionalidades de diversos modelos do Hugging Face com\\nsuas aplicações. Não é preciso utilizar o Hugging Face para fazer tudo em uma aplicação: você pode\\napenas pegar um ou alguns modelos específicos que sirvam para alguma tarefa, e combiná-los com\\nalgum outro script ou programa. Ou então combinar as IAs do Hugging Face com outras IAs mais\\n“famosas” , como o ChatGPT , e construir assim um sistema robusto com diversas IAs para uma variedade\\nde tarefas. O céu é o limite!\\nAsimov Academy 88\\n\\nas bibliotecas do Hugging Face são extremamente práticas. Portanto, se você sentir que está fazendo\\nalgo de forma “muito manual” , procure pela documentação ou comunidade e busque entender se há\\nalguma função ou ferramenta pronta para te ajudar!\\nAsimov Academy 38\"\n",
      "}\n",
      "\u001b[32;1m\u001b[1;3m[llm/start]\u001b[0m \u001b[1m[1:chain:RetrievalQA > 3:chain:StuffDocumentsChain > 4:chain:LLMChain > 5:llm:ChatOpenAI] Entering LLM run with input:\n",
      "\u001b[0m{\n",
      "  \"prompts\": [\n",
      "    \"Human: Utilize o contexto fornceido para responder a pergunta ao final. \\nSe você não sabe a resposta, apenas diga que não sabe e não tente inventar a resposta.\\nUtilize três frases no máximo, mantenha a resposta concisa.\\n\\nContexto: Explorando o Universo das IAs com Hugging Face\\nConteúdo\\n01. O que é Hugging Face? 5\\nAfinal, o que é Hugging Face? . . . . . . . . . . . . . . . . . . . . . . . . . . . . . . . . . . 5\\nÉ tudo aberto mesmo? . . . . . . . . . . . . . . . . . . . . . . . . . . . . . . . . . . . 6\\nComo usaremos o Hugging Face? . . . . . . . . . . . . . . . . . . . . . . . . . . . . . . . . 6\\n02. A plataforma Hugging Face 7\\nModelos . . . . . . . . . . . . . . . . . . . . . . . . . . . . . . . . . . . . . . . . . . . . . . 7\\nPágina de um modelo . . . . . . . . . . . . . . . . . . . . . . . . . . . . . . . . . . . 8\\nDatasets . . . . . . . . . . . . . . . . . . . . . . . . . . . . . . . . . . . . . . . . . . . . . . 10\\nSpaces . . . . . . . . . . . . . . . . . . . . . . . . . . . . . . . . . . . . . . . . . . . . . . . 10\\n03. Testando nossa primeira IA em tempo recorde 14\\nNossa primeira IA . . . . . . . . . . . . . . . . . . . . . . . . . . . . . . . . . . . . . . . . . 14\\n\\nExplorando o Universo das IAs com Hugging Face\\nFigure 19: Criando uma conta no Hugging Face\\nPedindo acesso a um modelo\\nDe volta na página do modelo, você deverá ver um botão para solicitar acesso. O processo é diferente\\npara cada modelo restrito. No caso do modelo do Google, basta ler e concordar com termos de uso.\\nAsimov Academy 45\\n\\nFace.\\nÉ claro que o Hugging Face não acaba aqui. Não tivemos tempo de explorar boa parte das tarefas que\\nexistem no Hugging Face. Dito isso, agora sabemos como fazer este processo: conseguimos procurar por\\numa tarefa nova, encontrar o código necessário para baixá-lo (seja pela biblioteca transformers\\nou alguma outra), avaliar se conseguiremos rodar o modelo localmente, e entender como passar\\nargumentos e obter resultados a partir dele.\\nCom isso, você está apto para combinar funcionalidades de diversos modelos do Hugging Face com\\nsuas aplicações. Não é preciso utilizar o Hugging Face para fazer tudo em uma aplicação: você pode\\napenas pegar um ou alguns modelos específicos que sirvam para alguma tarefa, e combiná-los com\\nalgum outro script ou programa. Ou então combinar as IAs do Hugging Face com outras IAs mais\\n“famosas” , como o ChatGPT , e construir assim um sistema robusto com diversas IAs para uma variedade\\nde tarefas. O céu é o limite!\\nAsimov Academy 88\\n\\nas bibliotecas do Hugging Face são extremamente práticas. Portanto, se você sentir que está fazendo\\nalgo de forma “muito manual” , procure pela documentação ou comunidade e busque entender se há\\nalguma função ou ferramenta pronta para te ajudar!\\nAsimov Academy 38\\n\\nPergunta: O que é Hugging Face e como faço para acessá-lo?\\n\\nResposta:\"\n",
      "  ]\n",
      "}\n",
      "\u001b[36;1m\u001b[1;3m[llm/end]\u001b[0m \u001b[1m[1:chain:RetrievalQA > 3:chain:StuffDocumentsChain > 4:chain:LLMChain > 5:llm:ChatOpenAI] [1.63s] Exiting LLM run with output:\n",
      "\u001b[0m{\n",
      "  \"generations\": [\n",
      "    [\n",
      "      {\n",
      "        \"text\": \"Hugging Face é uma plataforma que oferece modelos de IA e datasets.\\nPara acessá-lo, é necessário criar uma conta e solicitar acesso aos modelos desejados.\\nO processo de acesso pode variar dependendo do modelo, podendo envolver a leitura e concordância com termos de uso.\",\n",
      "        \"generation_info\": {\n",
      "          \"finish_reason\": \"stop\",\n",
      "          \"logprobs\": null\n",
      "        },\n",
      "        \"type\": \"ChatGeneration\",\n",
      "        \"message\": {\n",
      "          \"lc\": 1,\n",
      "          \"type\": \"constructor\",\n",
      "          \"id\": [\n",
      "            \"langchain\",\n",
      "            \"schema\",\n",
      "            \"messages\",\n",
      "            \"AIMessage\"\n",
      "          ],\n",
      "          \"kwargs\": {\n",
      "            \"content\": \"Hugging Face é uma plataforma que oferece modelos de IA e datasets.\\nPara acessá-lo, é necessário criar uma conta e solicitar acesso aos modelos desejados.\\nO processo de acesso pode variar dependendo do modelo, podendo envolver a leitura e concordância com termos de uso.\",\n",
      "            \"additional_kwargs\": {},\n",
      "            \"name\": null,\n",
      "            \"id\": \"run-11db4aa2-9089-4a77-84d1-f76f8cba0687-0\",\n",
      "            \"tool_calls\": [],\n",
      "            \"invalid_tool_calls\": []\n",
      "          }\n",
      "        }\n",
      "      }\n",
      "    ]\n",
      "  ],\n",
      "  \"llm_output\": {\n",
      "    \"token_usage\": {\n",
      "      \"completion_tokens\": 64,\n",
      "      \"prompt_tokens\": 935,\n",
      "      \"total_tokens\": 999\n",
      "    },\n",
      "    \"model_name\": \"gpt-3.5-turbo-0125\",\n",
      "    \"system_fingerprint\": \"fp_c2295e73ad\"\n",
      "  },\n",
      "  \"run\": null\n",
      "}\n",
      "\u001b[36;1m\u001b[1;3m[chain/end]\u001b[0m \u001b[1m[1:chain:RetrievalQA > 3:chain:StuffDocumentsChain > 4:chain:LLMChain] [1.63s] Exiting Chain run with output:\n",
      "\u001b[0m{\n",
      "  \"text\": \"Hugging Face é uma plataforma que oferece modelos de IA e datasets.\\nPara acessá-lo, é necessário criar uma conta e solicitar acesso aos modelos desejados.\\nO processo de acesso pode variar dependendo do modelo, podendo envolver a leitura e concordância com termos de uso.\"\n",
      "}\n",
      "\u001b[36;1m\u001b[1;3m[chain/end]\u001b[0m \u001b[1m[1:chain:RetrievalQA > 3:chain:StuffDocumentsChain] [1.63s] Exiting Chain run with output:\n",
      "\u001b[0m{\n",
      "  \"output_text\": \"Hugging Face é uma plataforma que oferece modelos de IA e datasets.\\nPara acessá-lo, é necessário criar uma conta e solicitar acesso aos modelos desejados.\\nO processo de acesso pode variar dependendo do modelo, podendo envolver a leitura e concordância com termos de uso.\"\n",
      "}\n",
      "\u001b[36;1m\u001b[1;3m[chain/end]\u001b[0m \u001b[1m[1:chain:RetrievalQA] [2.02s] Exiting Chain run with output:\n",
      "\u001b[0m[outputs]\n"
     ]
    }
   ],
   "source": [
    "from langchain.globals import set_debug\n",
    "\n",
    "set_debug(True)\n",
    "\n",
    "pergunta = 'O que é Hugging Face e como faço para acessá-lo?'\n",
    "resposta = chat_chain.invoke({'query': pergunta})\n",
    "\n",
    "set_debug(False)\n"
   ]
  },
  {
   "attachments": {},
   "cell_type": "markdown",
   "id": "2d800028",
   "metadata": {},
   "source": [
    "## Outros tipos de chains"
   ]
  },
  {
   "attachments": {},
   "cell_type": "markdown",
   "id": "aac4b86e",
   "metadata": {},
   "source": [
    "### Stuff"
   ]
  },
  {
   "cell_type": "code",
   "execution_count": 15,
   "id": "857132f2",
   "metadata": {},
   "outputs": [
    {
     "name": "stdout",
     "output_type": "stream",
     "text": [
      "Hugging Face é uma plataforma que disponibiliza uma variedade de modelos e datasets de Inteligência Artificial para uso. Para acessá-lo, você pode criar uma conta no site da plataforma e, em seguida, buscar por modelos específicos de interesse. Alguns modelos podem requerer solicitação de acesso, como no caso de modelos restritos, onde é necessário concordar com os termos de uso para utilizá-los. Além disso, é possível explorar a documentação e a comunidade do Hugging Face para obter mais informações e suporte sobre como utilizar a plataforma de forma eficiente.\n"
     ]
    }
   ],
   "source": [
    "chat_chain = RetrievalQA.from_chain_type(\n",
    "    llm=chat,\n",
    "    retriever=vectordb.as_retriever(search_type='mmr'),\n",
    "    chain_type='stuff'\n",
    ")\n",
    "\n",
    "pergunta = 'O que é Hugging Face e como faço para acessá-lo?'\n",
    "resposta = chat_chain.invoke({'query': pergunta})\n",
    "print(resposta['result'])"
   ]
  },
  {
   "attachments": {},
   "cell_type": "markdown",
   "id": "465e77f0",
   "metadata": {},
   "source": [
    "### Map Reduce"
   ]
  },
  {
   "cell_type": "code",
   "execution_count": 16,
   "id": "d88e5927",
   "metadata": {},
   "outputs": [
    {
     "name": "stdout",
     "output_type": "stream",
     "text": [
      "Hugging Face é uma plataforma de inteligência artificial que oferece uma variedade de modelos de IA pré-treinados para tarefas como processamento de linguagem natural, visão computacional e muito mais. Para acessá-lo, é necessário visitar o site oficial em https://huggingface.co/ e criar uma conta na plataforma. Lá você encontrará modelos pré-treinados, poderá treinar seus próprios modelos, explorar datasets e utilizar diversas ferramentas relacionadas à IA.\n"
     ]
    }
   ],
   "source": [
    "chat_chain = RetrievalQA.from_chain_type(\n",
    "    llm=chat,\n",
    "    retriever=vectordb.as_retriever(search_type='mmr'),\n",
    "    chain_type='map_reduce'\n",
    ")\n",
    "\n",
    "pergunta = 'O que é Hugging Face e como faço para acessá-lo?'\n",
    "resposta = chat_chain.invoke({'query': pergunta})\n",
    "print(resposta['result'])"
   ]
  },
  {
   "attachments": {},
   "cell_type": "markdown",
   "id": "ac307f35",
   "metadata": {},
   "source": [
    "### Refine"
   ]
  },
  {
   "cell_type": "code",
   "execution_count": 17,
   "id": "d6a48260",
   "metadata": {},
   "outputs": [
    {
     "name": "stdout",
     "output_type": "stream",
     "text": [
      "Hugging Face é uma plataforma que oferece uma variedade de modelos de inteligência artificial pré-treinados, datasets e espaços de colaboração para a comunidade de IA. As bibliotecas do Hugging Face são extremamente práticas, permitindo aos usuários acessar e utilizar modelos de forma eficiente. Para acessá-lo, basta visitar o site oficial da Hugging Face em https://huggingface.co/. Lá você encontrará os modelos, datasets e demais recursos disponíveis para explorar e utilizar em seus projetos de IA. Além disso, você pode buscar na documentação ou comunidade do Hugging Face por funções ou ferramentas prontas que podem te ajudar a automatizar tarefas e facilitar seu trabalho com IA. Com o Hugging Face, você tem a oportunidade de combinar funcionalidades de diversos modelos para suas aplicações e integrar diferentes modelos em seus projetos de forma eficiente. As possibilidades são vastas e o céu é o limite quando se trata de explorar e utilizar os recursos oferecidos pelo Hugging Face.\n"
     ]
    }
   ],
   "source": [
    "chat_chain = RetrievalQA.from_chain_type(\n",
    "    llm=chat,\n",
    "    retriever=vectordb.as_retriever(search_type='mmr'),\n",
    "    chain_type='refine'\n",
    ")\n",
    "\n",
    "pergunta = 'O que é Hugging Face e como faço para acessá-lo?'\n",
    "resposta = chat_chain.invoke({'query': pergunta})\n",
    "print(resposta['result'])"
   ]
  },
  {
   "cell_type": "code",
   "execution_count": null,
   "id": "1e2e369e",
   "metadata": {},
   "outputs": [],
   "source": []
  }
 ],
 "metadata": {
  "kernelspec": {
   "display_name": ".venv",
   "language": "python",
   "name": "python3"
  },
  "language_info": {
   "codemirror_mode": {
    "name": "ipython",
    "version": 3
   },
   "file_extension": ".py",
   "mimetype": "text/x-python",
   "name": "python",
   "nbconvert_exporter": "python",
   "pygments_lexer": "ipython3",
   "version": "3.11.4"
  }
 },
 "nbformat": 4,
 "nbformat_minor": 5
}
